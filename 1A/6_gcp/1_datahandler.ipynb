{
 "cells": [
  {
   "cell_type": "markdown",
   "metadata": {
    "pycharm": {
     "name": "#%% md\n"
    }
   },
   "source": [
    "#### importer les libs"
   ]
  },
  {
   "cell_type": "code",
   "execution_count": 206,
   "metadata": {
    "pycharm": {
     "name": "#%%\n"
    }
   },
   "outputs": [],
   "source": [
    "import pandas as pd\n",
    "import sklearn as sk\n",
    "from sklearn import model_selection\n",
    "from sklearn import linear_model"
   ]
  },
  {
   "cell_type": "markdown",
   "metadata": {},
   "source": [
    "#### déclarer les classes"
   ]
  },
  {
   "cell_type": "code",
   "execution_count": 207,
   "metadata": {},
   "outputs": [],
   "source": [
    "class DataHandler:\n",
    "    def __init__(self):\n",
    "        print(\"\\nDataHandler: __init__\")\n",
    "        self.price = None\n",
    "        self.listing = None\n",
    "        self.merge = None\n",
    "        ;\n",
    "\n",
    "    def get_data(self):\n",
    "        print(\"\\nDataHandler: get_data\")\n",
    "        self.price = pd.read_csv(\"/Users/thomas/Downloads/price_availability.csv\", sep=\";\")\n",
    "        self.listing = pd.read_csv(\"/Users/thomas/Downloads/listings_final.csv\", sep=\";\")\n",
    "\n",
    "    def group_data(self):\n",
    "        print(\"\\nDataHandler: group_data\")\n",
    "        self.listing.drop(\"Unnamed: 0\", axis=\"columns\", inplace=True)\n",
    "        mean = self.price.groupby(\"listing_id\")['local_price'].mean()\n",
    "        self.merge = self.listing.merge(mean, on=\"listing_id\")\n",
    "\n",
    "    def get_process_data(self):\n",
    "        print(\"\\nDataHandler: get_process_data\")\n",
    "        self.get_data()\n",
    "        self.group_data()\n",
    "        return self.merge\n",
    "        ;\n",
    "\n",
    "class FeatureRecipe:\n",
    "    \"\"\"\n",
    "    Feature processing class\n",
    "    \"\"\"\n",
    "    def __init__(self, data: pd.DataFrame):\n",
    "        print(\"\\nFeatureRecipe: __init__\")\n",
    "        self.data = data\n",
    "        self.continuous = []\n",
    "        self.categorical = []\n",
    "        self.discrete = []\n",
    "        self.datetime = []\n",
    "\n",
    "    def separate_variable_types(self) -> None:\n",
    "        print(\"\\nFeatureRecipe: separate_variable_types\")\n",
    "        \"\"\" TODO : Diviser les types de variables dans un tableau \"\"\"\n",
    "        for lbl in self.data.columns:\n",
    "            c = self.data[lbl]\n",
    "            if c.dtype == int:\n",
    "                self.discrete.append(lbl)\n",
    "            elif c.dtype == float:\n",
    "                self.continuous.append(lbl)\n",
    "        pass\n",
    "\n",
    "    def drop_uselessf(self):\n",
    "        print(\"\\nFeatureRecipe: drop_uselessf\")\n",
    "        \"\"\" TODO : Supprimer les colonnes inutiles du dataset \"\"\"\n",
    "        print(\"nb columns before: {}\".format(self.data.columns.size))\n",
    "        drop = [\"name\", \"neighborhood\", \"latitude\", \"longitude\", \"city\"]\n",
    "        self.data.drop(axis=\"columns\", labels=drop, inplace=True)\n",
    "        print(\"nb columns after: {}, dropped: {}\".format(self.data.columns.size, drop))\n",
    "        pass\n",
    "\n",
    "    def deal_duplicate(self):\n",
    "        print(\"\\nFeatureRecipe: deal_duplicate\")\n",
    "        \"\"\" TODO : Supprimer les colonnes dupliquées du dataset \"\"\"\n",
    "        print(\"nb columns before: {}\".format(self.data.columns.size))\n",
    "        drop = []\n",
    "        i = 1\n",
    "        for lbl in self.data.columns:\n",
    "            c = self.data[lbl]\n",
    "            for lbl2 in self.data.columns[i:]:\n",
    "                c2 = self.data[lbl2]\n",
    "                if c.equals(c2):\n",
    "                    drop.append(lbl2)\n",
    "                    break\n",
    "            i+=1\n",
    "\n",
    "        self.data.drop(columns=drop, inplace=True)\n",
    "        print(\"nb columns after: {}, dropped = {}\".format(self.data.columns.size, drop))\n",
    "        pass\n",
    "\n",
    "    \"\"\" Supprimer un pourcentage de NA du dataset \"\"\"\n",
    "    def drop_nanp(self, threshold: float):\n",
    "        print(\"\\nFeatureRecipe: drop_nanp\", threshold)\n",
    "        print(\"nb columns before: {}\".format(self.data.columns.size))\n",
    "        drop = []\n",
    "        for lbl in self.data.columns:\n",
    "            c = self.data[lbl]\n",
    "            if c.isna().sum() / self.data.shape[0] >= threshold:\n",
    "                drop.append(lbl)\n",
    "        self.data.drop(columns=drop, inplace=True)\n",
    "        print(\"nb columns after: {}, dropped: {}\".format(self.data.columns.size, drop))\n",
    "        pass\n",
    "\n",
    "    def deal_dtime(self):\n",
    "        print(\"\\nFeatureRecipe: deal_dtime\")\n",
    "        \"\"\" TODO : Traiter les DateTime \"\"\"\n",
    "        pass\n",
    "\n",
    "    def prepare_data(self, threshold: float):\n",
    "        print(\"\\nFeatureRecipe: prepare_data\")\n",
    "        self.drop_uselessf()\n",
    "        self.deal_duplicate()\n",
    "        self.drop_nanp(threshold)\n",
    "        self.deal_dtime()\n",
    "        self.separate_variable_types()"
   ]
  },
  {
   "cell_type": "markdown",
   "metadata": {},
   "source": [
    "#### commencer le processing"
   ]
  },
  {
   "cell_type": "code",
   "execution_count": 208,
   "metadata": {
    "pycharm": {
     "name": "#%%\n"
    }
   },
   "outputs": [
    {
     "name": "stdout",
     "output_type": "stream",
     "text": [
      "\n",
      "DataHandler: __init__\n",
      "\n",
      "DataHandler: get_process_data\n",
      "\n",
      "DataHandler: get_data\n",
      "\n",
      "DataHandler: group_data\n",
      "CPU times: user 1e+03 ns, sys: 0 ns, total: 1e+03 ns\n",
      "Wall time: 3.81 µs\n"
     ]
    }
   ],
   "source": [
    "d = DataHandler()\n",
    "listing_price_mean = d.get_process_data()\n",
    "%time"
   ]
  },
  {
   "cell_type": "code",
   "execution_count": 209,
   "outputs": [
    {
     "name": "stdout",
     "output_type": "stream",
     "text": [
      "\n",
      "FeatureRecipe: __init__\n",
      "\n",
      "FeatureRecipe: prepare_data\n",
      "\n",
      "FeatureRecipe: drop_uselessf\n",
      "nb columns before: 19\n",
      "nb columns after: 14, dropped: ['name', 'neighborhood', 'latitude', 'longitude', 'city']\n",
      "\n",
      "FeatureRecipe: deal_duplicate\n",
      "nb columns before: 14\n",
      "nb columns after: 13, dropped = ['is_business_travel_ready']\n",
      "\n",
      "FeatureRecipe: drop_nanp 0.3\n",
      "nb columns before: 13\n",
      "nb columns after: 13, dropped: []\n",
      "\n",
      "FeatureRecipe: deal_dtime\n",
      "\n",
      "FeatureRecipe: separate_variable_types\n",
      "CPU times: user 2 µs, sys: 0 ns, total: 2 µs\n",
      "Wall time: 3.81 µs\n"
     ]
    }
   ],
   "source": [
    "fr = FeatureRecipe(listing_price_mean)\n",
    "fr.prepare_data(0.30)\n",
    "%time"
   ],
   "metadata": {
    "collapsed": false,
    "pycharm": {
     "name": "#%%\n"
    }
   }
  }
 ],
 "metadata": {
  "kernelspec": {
   "display_name": "Python 3",
   "language": "python",
   "name": "python3"
  },
  "language_info": {
   "codemirror_mode": {
    "name": "ipython",
    "version": 3
   },
   "file_extension": ".py",
   "mimetype": "text/x-python",
   "name": "python",
   "nbconvert_exporter": "python",
   "pygments_lexer": "ipython3",
   "version": "3.8.2"
  }
 },
 "nbformat": 4,
 "nbformat_minor": 1
}