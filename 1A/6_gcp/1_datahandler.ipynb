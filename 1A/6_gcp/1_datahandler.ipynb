{
 "cells": [
  {
   "cell_type": "markdown",
   "metadata": {
    "pycharm": {
     "name": "#%% md\n"
    }
   },
   "source": [
    "#### importer les libs"
   ]
  },
  {
   "cell_type": "code",
   "execution_count": 1,
   "metadata": {
    "pycharm": {
     "name": "#%%\n"
    }
   },
   "outputs": [],
   "source": [
    "import pandas as pd\n",
    "import sklearn as sk\n",
    "from sklearn import model_selection\n",
    "from sklearn import linear_model"
   ]
  },
  {
   "cell_type": "markdown",
   "metadata": {},
   "source": [
    "#### déclarer les classes"
   ]
  },
  {
   "cell_type": "code",
   "execution_count": 2,
   "metadata": {},
   "outputs": [],
   "source": [
    "class DataHandler:\n",
    "    def __init__(self):\n",
    "        self.price = None\n",
    "        self.listing = None\n",
    "        self.merge = None\n",
    "        ;\n",
    "\n",
    "    def get_data(self):\n",
    "        self.price = pd.read_csv(\"/Users/thomas/Downloads/price_availability.csv\", sep=\";\")\n",
    "        self.listing = pd.read_csv(\"/Users/thomas/Downloads/listings_final.csv\", sep=\";\")\n",
    "\n",
    "    def group_data(self):\n",
    "        self.listing.drop(\"Unnamed: 0\", axis=\"columns\", inplace=True)\n",
    "        listing_price_mean = self.price.groupby(\"listing_id\")['local_price'].mean()\n",
    "        self.merge = self.listing.merge(listing_price_mean, on=\"listing_id\")\n",
    "\n",
    "    def get_process_data(self):\n",
    "        self.get_data()\n",
    "        self.group_data()\n",
    "        return self.price, self.listing\n",
    "        ;"
   ]
  },
  {
   "cell_type": "markdown",
   "metadata": {},
   "source": [
    "#### commencer le processing"
   ]
  },
  {
   "cell_type": "code",
   "execution_count": 3,
   "metadata": {
    "pycharm": {
     "name": "#%%\n"
    }
   },
   "outputs": [
    {
     "name": "stdout",
     "output_type": "stream",
     "text": [
      "CPU times: user 1e+03 ns, sys: 0 ns, total: 1e+03 ns\n",
      "Wall time: 4.29 µs\n"
     ]
    }
   ],
   "source": [
    "d = DataHandler()\n",
    "listing, prices = d.get_process_data()\n",
    "%time\n"
   ]
  }
 ],
 "metadata": {
  "kernelspec": {
   "display_name": "Python 3",
   "language": "python",
   "name": "python3"
  },
  "language_info": {
   "codemirror_mode": {
    "name": "ipython",
    "version": 3
   },
   "file_extension": ".py",
   "mimetype": "text/x-python",
   "name": "python",
   "nbconvert_exporter": "python",
   "pygments_lexer": "ipython3",
   "version": "3.8.2"
  }
 },
 "nbformat": 4,
 "nbformat_minor": 1
}