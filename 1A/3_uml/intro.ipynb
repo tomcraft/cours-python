{
  "nbformat": 4,
  "nbformat_minor": 0,
  "metadata": {
    "colab": {
      "name": "1A/3_uml/intro",
      "provenance": [],
      "authorship_tag": "ABX9TyPZJ5PW7jkkMirUms7jhg9C",
      "include_colab_link": true
    },
    "kernelspec": {
      "name": "python3",
      "display_name": "Python 3"
    }
  },
  "cells": [
    {
      "cell_type": "markdown",
      "metadata": {
        "id": "view-in-github",
        "colab_type": "text"
      },
      "source": [
        "<a href=\"https://colab.research.google.com/github/tomcraft/cours-python/blob/master/1A/3_uml/intro.ipynb\" target=\"_parent\"><img src=\"https://colab.research.google.com/assets/colab-badge.svg\" alt=\"Open In Colab\"/></a>"
      ]
    },
    {
      "cell_type": "markdown",
      "metadata": {
        "id": "OO3_KO__7HGc"
      },
      "source": [
        "Creation classe Personne"
      ]
    },
    {
      "cell_type": "code",
      "metadata": {
        "id": "iLa9D8n-5i5W"
      },
      "source": [
        "import datetime\n",
        "\n",
        "class Personne:\n",
        "  def __init__(self, nom, prenom, dateNaissance):\n",
        "    self.nom = nom\n",
        "    self.prenom = prenom\n",
        "    self.dateNaissance = dateNaissance\n",
        "\n",
        "  def afficher(self):\n",
        "    print(self.nom, \" \", self.prenom)\n",
        "  \n",
        "  def calculerAge(self) -> int:\n",
        "    now = datetime.datetime.now()\n",
        "    return now.year - self.dateNaissance.year"
      ],
      "execution_count": 17,
      "outputs": []
    },
    {
      "cell_type": "code",
      "metadata": {
        "id": "5aAUc2B88bUK",
        "outputId": "b8f4505b-a483-4dc2-d321-0ff8413f2d9e",
        "colab": {
          "base_uri": "https://localhost:8080/",
          "height": 34
        }
      },
      "source": [
        "p1 = Personne(\"jean\", \"bon\", datetime.datetime(1998, 1, 9))\n",
        "p1.afficher()"
      ],
      "execution_count": 18,
      "outputs": [
        {
          "output_type": "stream",
          "text": [
            "jean   bon\n"
          ],
          "name": "stdout"
        }
      ]
    },
    {
      "cell_type": "code",
      "metadata": {
        "id": "T1r__u6o9UJz",
        "outputId": "8fe4fd12-b65a-478d-d6c4-ae6ca2616c14",
        "colab": {
          "base_uri": "https://localhost:8080/",
          "height": 34
        }
      },
      "source": [
        "p1.calculerAge()"
      ],
      "execution_count": 19,
      "outputs": [
        {
          "output_type": "execute_result",
          "data": {
            "text/plain": [
              "22"
            ]
          },
          "metadata": {
            "tags": []
          },
          "execution_count": 19
        }
      ]
    },
    {
      "cell_type": "markdown",
      "metadata": {
        "id": "nLHu9YI2RE_K"
      },
      "source": [
        "Opérateurs"
      ]
    },
    {
      "cell_type": "code",
      "metadata": {
        "id": "Y5JVDWaIRIcu"
      },
      "source": [
        "class Vecteur:\n",
        "  def __init__(self, x, y):\n",
        "    self.x = x\n",
        "    self.y = y\n",
        "    \n",
        "  def __add__(self, other:Vecteur) -> Vecteur:\n",
        "    return Vecteur(self.x+other.x, self.y+other.y)\n",
        "\n",
        "  def __repr__(self):\n",
        "    return \"Vecteur({},{})\".format(self.x, self.y);"
      ],
      "execution_count": 29,
      "outputs": []
    },
    {
      "cell_type": "code",
      "metadata": {
        "id": "y2to20jsSA10",
        "outputId": "f6273020-74bf-498e-8a8b-c45c9041a93b",
        "colab": {
          "base_uri": "https://localhost:8080/",
          "height": 34
        }
      },
      "source": [
        "Vecteur(1, 2) + Vecteur(10, 10)"
      ],
      "execution_count": 30,
      "outputs": [
        {
          "output_type": "execute_result",
          "data": {
            "text/plain": [
              "Vecteur(11,12)"
            ]
          },
          "metadata": {
            "tags": []
          },
          "execution_count": 30
        }
      ]
    },
    {
      "cell_type": "code",
      "metadata": {
        "id": "AjdEZISRTQaQ"
      },
      "source": [
        ""
      ],
      "execution_count": null,
      "outputs": []
    }
  ]
}